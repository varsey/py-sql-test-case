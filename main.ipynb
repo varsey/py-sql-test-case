{
 "cells": [
  {
   "cell_type": "code",
   "execution_count": 7,
   "metadata": {
    "collapsed": true,
    "pycharm": {
     "name": "#%%\n"
    }
   },
   "outputs": [],
   "source": [
    "import pandas as pd"
   ]
  },
  {
   "cell_type": "code",
   "execution_count": 9,
   "outputs": [],
   "source": [
    "exchange_data = pd.read_feather('data.feather')"
   ],
   "metadata": {
    "collapsed": false,
    "pycharm": {
     "name": "#%%\n"
    }
   }
  },
  {
   "cell_type": "code",
   "execution_count": 10,
   "outputs": [
    {
     "data": {
      "text/plain": "                     exchange_time  BTC-USD-SWAP@OKEX_bid_price_1  \\\n0 2022-02-07 00:00:00.007000+00:00                        42418.3   \n1 2022-02-07 00:00:00.028000+00:00                        42418.3   \n2 2022-02-07 00:00:00.066000+00:00                        42418.3   \n3 2022-02-07 00:00:00.146000+00:00                        42418.3   \n4 2022-02-07 00:00:00.156000+00:00                        42418.3   \n\n   BTC-USD-SWAP@OKEX_ask_price_1  BTC-USD-SWAP@OKEX_bid_vol_1  \\\n0                        42418.4                         51.0   \n1                        42418.4                         51.0   \n2                        42418.4                         51.0   \n3                        42418.4                         51.0   \n4                        42418.4                         51.0   \n\n   BTC-USD-SWAP@OKEX_ask_vol_1  \n0                         57.0  \n1                        152.0  \n2                         83.0  \n3                        306.0  \n4                        312.0  ",
      "text/html": "<div>\n<style scoped>\n    .dataframe tbody tr th:only-of-type {\n        vertical-align: middle;\n    }\n\n    .dataframe tbody tr th {\n        vertical-align: top;\n    }\n\n    .dataframe thead th {\n        text-align: right;\n    }\n</style>\n<table border=\"1\" class=\"dataframe\">\n  <thead>\n    <tr style=\"text-align: right;\">\n      <th></th>\n      <th>exchange_time</th>\n      <th>BTC-USD-SWAP@OKEX_bid_price_1</th>\n      <th>BTC-USD-SWAP@OKEX_ask_price_1</th>\n      <th>BTC-USD-SWAP@OKEX_bid_vol_1</th>\n      <th>BTC-USD-SWAP@OKEX_ask_vol_1</th>\n    </tr>\n  </thead>\n  <tbody>\n    <tr>\n      <th>0</th>\n      <td>2022-02-07 00:00:00.007000+00:00</td>\n      <td>42418.3</td>\n      <td>42418.4</td>\n      <td>51.0</td>\n      <td>57.0</td>\n    </tr>\n    <tr>\n      <th>1</th>\n      <td>2022-02-07 00:00:00.028000+00:00</td>\n      <td>42418.3</td>\n      <td>42418.4</td>\n      <td>51.0</td>\n      <td>152.0</td>\n    </tr>\n    <tr>\n      <th>2</th>\n      <td>2022-02-07 00:00:00.066000+00:00</td>\n      <td>42418.3</td>\n      <td>42418.4</td>\n      <td>51.0</td>\n      <td>83.0</td>\n    </tr>\n    <tr>\n      <th>3</th>\n      <td>2022-02-07 00:00:00.146000+00:00</td>\n      <td>42418.3</td>\n      <td>42418.4</td>\n      <td>51.0</td>\n      <td>306.0</td>\n    </tr>\n    <tr>\n      <th>4</th>\n      <td>2022-02-07 00:00:00.156000+00:00</td>\n      <td>42418.3</td>\n      <td>42418.4</td>\n      <td>51.0</td>\n      <td>312.0</td>\n    </tr>\n  </tbody>\n</table>\n</div>"
     },
     "execution_count": 10,
     "metadata": {},
     "output_type": "execute_result"
    }
   ],
   "source": [
    "exchange_data.head()"
   ],
   "metadata": {
    "collapsed": false,
    "pycharm": {
     "name": "#%%\n"
    }
   }
  },
  {
   "cell_type": "code",
   "execution_count": 13,
   "outputs": [
    {
     "name": "stdout",
     "output_type": "stream",
     "text": [
      "+++BTC-USD-SWAP@OKEX_bid_price_1++\n",
      "mean - 43382.89463718262\n",
      "median - 43460.6\n",
      "quantile 0.25 - 42507.0\n",
      "quantile 0.5 - 43460.6\n",
      "quantile 0.75 - 44071.7\n",
      "+++BTC-USD-SWAP@OKEX_ask_price_1++\n",
      "mean - 43383.26771892533\n",
      "median - 43461.1\n",
      "quantile 0.25 - 42507.3\n",
      "quantile 0.5 - 43461.1\n",
      "quantile 0.75 - 44071.9\n",
      "+++BTC-USD-SWAP@OKEX_bid_vol_1++\n",
      "mean - 595.5515334658352\n",
      "median - 216.0\n",
      "quantile 0.25 - 41.0\n",
      "quantile 0.5 - 216.0\n",
      "quantile 0.75 - 700.0\n",
      "+++BTC-USD-SWAP@OKEX_ask_vol_1++\n",
      "mean - 528.893979704996\n",
      "median - 167.0\n",
      "quantile 0.25 - 25.0\n",
      "quantile 0.5 - 167.0\n",
      "quantile 0.75 - 578.0\n"
     ]
    }
   ],
   "source": [
    "for column in exchange_data.columns[1:]:\n",
    "    print(f'+++{column}++')\n",
    "    print(f'mean - {exchange_data[column].mean()}')\n",
    "    print(f'median - {exchange_data[column].median()}')\n",
    "    print(f'quantile 0.25 - {exchange_data[column].quantile(q=0.25)}')\n",
    "    print(f'quantile 0.5 - {exchange_data[column].quantile(q=0.5)}')\n",
    "    print(f'quantile 0.75 - {exchange_data[column].quantile(q=0.75)}')"
   ],
   "metadata": {
    "collapsed": false,
    "pycharm": {
     "name": "#%%\n"
    }
   }
  },
  {
   "cell_type": "code",
   "execution_count": null,
   "outputs": [],
   "source": [],
   "metadata": {
    "collapsed": false,
    "pycharm": {
     "name": "#%%\n"
    }
   }
  },
  {
   "cell_type": "code",
   "execution_count": null,
   "outputs": [],
   "source": [],
   "metadata": {
    "collapsed": false,
    "pycharm": {
     "name": "#%%\n"
    }
   }
  }
 ],
 "metadata": {
  "kernelspec": {
   "display_name": "Python 3",
   "language": "python",
   "name": "python3"
  },
  "language_info": {
   "codemirror_mode": {
    "name": "ipython",
    "version": 2
   },
   "file_extension": ".py",
   "mimetype": "text/x-python",
   "name": "python",
   "nbconvert_exporter": "python",
   "pygments_lexer": "ipython2",
   "version": "2.7.6"
  }
 },
 "nbformat": 4,
 "nbformat_minor": 0
}